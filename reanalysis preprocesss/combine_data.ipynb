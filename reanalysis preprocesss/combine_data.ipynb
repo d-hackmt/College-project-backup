{
 "cells": [
  {
   "cell_type": "markdown",
   "metadata": {},
   "source": [
    "## LOAD AND JOIN DATA"
   ]
  },
  {
   "cell_type": "code",
   "execution_count": 6,
   "metadata": {},
   "outputs": [
    {
     "name": "stderr",
     "output_type": "stream",
     "text": [
      "C:\\Users\\djadh\\AppData\\Local\\Temp\\ipykernel_17528\\2306928045.py:7: DtypeWarning: Columns (8) have mixed types. Specify dtype option on import or set low_memory=False.\n",
      "  reanalysis_df = pd.read_csv('reanalysis.csv')\n"
     ]
    }
   ],
   "source": [
    "import pandas as pd\n",
    "\n",
    "# Load occurrences CSV\n",
    "occurrences_df = pd.read_csv('occurrences.csv')\n",
    "\n",
    "# Load reanalysis CSV\n",
    "reanalysis_df = pd.read_csv('reanalysis.csv')\n"
   ]
  },
  {
   "cell_type": "code",
   "execution_count": 7,
   "metadata": {},
   "outputs": [
    {
     "data": {
      "text/html": [
       "<div>\n",
       "<style scoped>\n",
       "    .dataframe tbody tr th:only-of-type {\n",
       "        vertical-align: middle;\n",
       "    }\n",
       "\n",
       "    .dataframe tbody tr th {\n",
       "        vertical-align: top;\n",
       "    }\n",
       "\n",
       "    .dataframe thead th {\n",
       "        text-align: right;\n",
       "    }\n",
       "</style>\n",
       "<table border=\"1\" class=\"dataframe\">\n",
       "  <thead>\n",
       "    <tr style=\"text-align: right;\">\n",
       "      <th></th>\n",
       "      <th>longitude</th>\n",
       "      <th>latitude</th>\n",
       "      <th>level</th>\n",
       "      <th>geopotential</th>\n",
       "      <th>specific_humidity</th>\n",
       "      <th>air_temperature</th>\n",
       "      <th>eastward_wind</th>\n",
       "      <th>northward_wind</th>\n",
       "      <th>date</th>\n",
       "    </tr>\n",
       "  </thead>\n",
       "  <tbody>\n",
       "    <tr>\n",
       "      <th>0</th>\n",
       "      <td>87.5</td>\n",
       "      <td>23.5</td>\n",
       "      <td>100</td>\n",
       "      <td>161354.40</td>\n",
       "      <td>0.000002</td>\n",
       "      <td>198.14867</td>\n",
       "      <td>29.350992</td>\n",
       "      <td>11.406769</td>\n",
       "      <td>1/3/2015</td>\n",
       "    </tr>\n",
       "    <tr>\n",
       "      <th>1</th>\n",
       "      <td>87.5</td>\n",
       "      <td>23.5</td>\n",
       "      <td>100</td>\n",
       "      <td>161558.72</td>\n",
       "      <td>0.000003</td>\n",
       "      <td>195.22280</td>\n",
       "      <td>24.262028</td>\n",
       "      <td>3.660801</td>\n",
       "      <td>2/3/2015</td>\n",
       "    </tr>\n",
       "    <tr>\n",
       "      <th>2</th>\n",
       "      <td>87.5</td>\n",
       "      <td>23.5</td>\n",
       "      <td>100</td>\n",
       "      <td>161750.40</td>\n",
       "      <td>0.000003</td>\n",
       "      <td>193.39170</td>\n",
       "      <td>26.431646</td>\n",
       "      <td>1.130081</td>\n",
       "      <td>3/3/2015</td>\n",
       "    </tr>\n",
       "    <tr>\n",
       "      <th>3</th>\n",
       "      <td>87.5</td>\n",
       "      <td>23.5</td>\n",
       "      <td>100</td>\n",
       "      <td>161737.80</td>\n",
       "      <td>0.000002</td>\n",
       "      <td>193.94790</td>\n",
       "      <td>22.918640</td>\n",
       "      <td>-1.913664</td>\n",
       "      <td>4/3/2015</td>\n",
       "    </tr>\n",
       "    <tr>\n",
       "      <th>4</th>\n",
       "      <td>87.5</td>\n",
       "      <td>23.5</td>\n",
       "      <td>100</td>\n",
       "      <td>161800.84</td>\n",
       "      <td>0.000002</td>\n",
       "      <td>195.39761</td>\n",
       "      <td>14.185083</td>\n",
       "      <td>1.849530</td>\n",
       "      <td>5/3/2015</td>\n",
       "    </tr>\n",
       "  </tbody>\n",
       "</table>\n",
       "</div>"
      ],
      "text/plain": [
       "   longitude  latitude  level  geopotential  specific_humidity  \\\n",
       "0       87.5      23.5    100     161354.40           0.000002   \n",
       "1       87.5      23.5    100     161558.72           0.000003   \n",
       "2       87.5      23.5    100     161750.40           0.000003   \n",
       "3       87.5      23.5    100     161737.80           0.000002   \n",
       "4       87.5      23.5    100     161800.84           0.000002   \n",
       "\n",
       "   air_temperature  eastward_wind  northward_wind      date  \n",
       "0        198.14867      29.350992       11.406769  1/3/2015  \n",
       "1        195.22280      24.262028        3.660801  2/3/2015  \n",
       "2        193.39170      26.431646        1.130081  3/3/2015  \n",
       "3        193.94790      22.918640       -1.913664  4/3/2015  \n",
       "4        195.39761      14.185083        1.849530  5/3/2015  "
      ]
     },
     "execution_count": 7,
     "metadata": {},
     "output_type": "execute_result"
    }
   ],
   "source": [
    "reanalysis_df.head(5)"
   ]
  },
  {
   "cell_type": "code",
   "execution_count": 8,
   "metadata": {},
   "outputs": [
    {
     "data": {
      "text/html": [
       "<div>\n",
       "<style scoped>\n",
       "    .dataframe tbody tr th:only-of-type {\n",
       "        vertical-align: middle;\n",
       "    }\n",
       "\n",
       "    .dataframe tbody tr th {\n",
       "        vertical-align: top;\n",
       "    }\n",
       "\n",
       "    .dataframe thead th {\n",
       "        text-align: right;\n",
       "    }\n",
       "</style>\n",
       "<table border=\"1\" class=\"dataframe\">\n",
       "  <thead>\n",
       "    <tr style=\"text-align: right;\">\n",
       "      <th></th>\n",
       "      <th>TH</th>\n",
       "      <th>Date</th>\n",
       "    </tr>\n",
       "  </thead>\n",
       "  <tbody>\n",
       "    <tr>\n",
       "      <th>0</th>\n",
       "      <td>0</td>\n",
       "      <td>1/3/2015</td>\n",
       "    </tr>\n",
       "    <tr>\n",
       "      <th>1</th>\n",
       "      <td>0</td>\n",
       "      <td>2/3/2015</td>\n",
       "    </tr>\n",
       "    <tr>\n",
       "      <th>2</th>\n",
       "      <td>1</td>\n",
       "      <td>3/3/2015</td>\n",
       "    </tr>\n",
       "    <tr>\n",
       "      <th>3</th>\n",
       "      <td>0</td>\n",
       "      <td>4/3/2015</td>\n",
       "    </tr>\n",
       "    <tr>\n",
       "      <th>4</th>\n",
       "      <td>0</td>\n",
       "      <td>5/3/2015</td>\n",
       "    </tr>\n",
       "    <tr>\n",
       "      <th>...</th>\n",
       "      <td>...</td>\n",
       "      <td>...</td>\n",
       "    </tr>\n",
       "    <tr>\n",
       "      <th>117</th>\n",
       "      <td>0</td>\n",
       "      <td>26/06/2015</td>\n",
       "    </tr>\n",
       "    <tr>\n",
       "      <th>118</th>\n",
       "      <td>1</td>\n",
       "      <td>27/06/2015</td>\n",
       "    </tr>\n",
       "    <tr>\n",
       "      <th>119</th>\n",
       "      <td>0</td>\n",
       "      <td>28/06/2015</td>\n",
       "    </tr>\n",
       "    <tr>\n",
       "      <th>120</th>\n",
       "      <td>0</td>\n",
       "      <td>29/06/2015</td>\n",
       "    </tr>\n",
       "    <tr>\n",
       "      <th>121</th>\n",
       "      <td>1</td>\n",
       "      <td>30/06/2015</td>\n",
       "    </tr>\n",
       "  </tbody>\n",
       "</table>\n",
       "<p>122 rows × 2 columns</p>\n",
       "</div>"
      ],
      "text/plain": [
       "     TH        Date\n",
       "0     0    1/3/2015\n",
       "1     0    2/3/2015\n",
       "2     1    3/3/2015\n",
       "3     0    4/3/2015\n",
       "4     0    5/3/2015\n",
       "..   ..         ...\n",
       "117   0  26/06/2015\n",
       "118   1  27/06/2015\n",
       "119   0  28/06/2015\n",
       "120   0  29/06/2015\n",
       "121   1  30/06/2015\n",
       "\n",
       "[122 rows x 2 columns]"
      ]
     },
     "execution_count": 8,
     "metadata": {},
     "output_type": "execute_result"
    }
   ],
   "source": [
    "occurrences_df"
   ]
  },
  {
   "cell_type": "code",
   "execution_count": 2,
   "metadata": {},
   "outputs": [],
   "source": [
    "import pandas as pd\n",
    "\n",
    "# Load occurrences CSV\n",
    "occurrences_df = pd.read_csv('occurrences.csv')\n",
    "\n",
    "# Load reanalysis CSV\n",
    "reanalysis_df = pd.read_csv('reanalysis.csv')\n",
    "\n",
    "# Find dates with th == 1 in occurrences table\n",
    "th_dates = occurrences_df[occurrences_df['TH'] == 1]['Date']\n",
    "\n",
    "# Create a new column 'th' in reanalysis table and mark dates accordingly\n",
    "reanalysis_df['th'] = reanalysis_df['date'].isin(th_dates).astype(int)\n",
    "\n",
    "# Save the updated reanalysis table to a new CSV file\n",
    "reanalysis_df.to_csv('updated_reanalysis.csv', index=False)\n"
   ]
  },
  {
   "cell_type": "code",
   "execution_count": 3,
   "metadata": {},
   "outputs": [
    {
     "data": {
      "image/png": "[encoded data removed]",
      "text/plain": [
       "<Figure size 800x600 with 1 Axes>"
      ]
     },
     "metadata": {},
     "output_type": "display_data"
    }
   ],
   "source": [
    "import pandas as pd\n",
    "import matplotlib.pyplot as plt\n",
    "import seaborn as sns\n",
    "\n",
    "# Load the updated reanalysis CSV\n",
    "updated_reanalysis_df = pd.read_csv('updated_reanalysis.csv')\n",
    "\n",
    "# Create a count plot of 'th' column\n",
    "plt.figure(figsize=(8, 6))\n",
    "sns.countplot(data=updated_reanalysis_df, x='th')\n",
    "plt.title('Count of Occurrences with th = 1 and 0')\n",
    "plt.xlabel('th')\n",
    "plt.ylabel('Count')\n",
    "plt.show()\n"
   ]
  }
 ],
 "metadata": {
  "kernelspec": {
   "display_name": "pra",
   "language": "python",
   "name": "python3"
  },
  "language_info": {
   "codemirror_mode": {
    "name": "ipython",
    "version": 3
   },
   "file_extension": ".py",
   "mimetype": "text/x-python",
   "name": "python",
   "nbconvert_exporter": "python",
   "pygments_lexer": "ipython3",
   "version": "3.10.13"
  }
 },
 "nbformat": 4,
 "nbformat_minor": 2
}
